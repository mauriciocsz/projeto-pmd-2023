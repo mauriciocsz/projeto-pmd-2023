{
 "cells": [
  {
   "cell_type": "code",
   "execution_count": 58,
   "metadata": {},
   "outputs": [],
   "source": [
    "from pyspark.sql import SparkSession\n",
    "from pyspark.conf import SparkConf\n",
    "\n",
    "conf = SparkConf()\n",
    "conf.set(\"spark.jars\", \"./neo4j-connector-apache-spark_2.12-5.0.1_for_spark_3.jar, ./mongo-spark-connector_2.11-2.0.0.jar\")\n",
    "conf.set(\"spark.jars.packages\", \"org.mongodb.spark:mongo-spark-connector_2.12:10.2.0\")\n",
    "conf.set(\"spark.mongodb.read.connection.uri\", \"mongodb://localhost:27017\")\n",
    "\n",
    "spark = SparkSession.builder \\\n",
    "    .master(\"local[*]\") \\\n",
    "    .appName('rede-devs') \\\n",
    "    .config(conf=conf) \\\n",
    "    .getOrCreate()"
   ]
  },
  {
   "cell_type": "code",
   "execution_count": 59,
   "metadata": {},
   "outputs": [],
   "source": [
    "df = spark.read.csv(\"survey_results_public.csv\", header=True)\n",
    "df = df.select('Respondent', 'Age', 'LanguageWorkedWith', 'DevType', 'FrameWorkWorkedWith', 'DatabaseWorkedWith', 'PlatformWorkedWith', 'UndergradMajor', 'Country', 'FormalEducation', 'LanguageDesireNextYear', 'ConvertedSalary', 'Exercise', 'YearsCoding', 'YearsCodingProf', 'WakeTime', 'HoursComputer', 'HoursOutside')\n"
   ]
  },
  {
   "cell_type": "code",
   "execution_count": 180,
   "metadata": {},
   "outputs": [],
   "source": [
    "from pyspark.sql.functions import col, split, array, when\n",
    "\n",
    "result1 = df \\\n",
    "            .withColumn('LanguageWorkedWith', split(df['LanguageWorkedWith'], ';')) \\\n",
    "            .withColumn('LanguageDesireNextYear', split(df['LanguageDesireNextYear'], ';')) \\\n",
    "            .withColumn('DevType', split(df['DevType'], ';')) \\\n",
    "            .withColumn('FrameworkWorkedWith', split(df['FrameworkWorkedWith'], ';')) \\\n",
    "            .withColumn('DatabaseWorkedWith', split(df['DatabaseWorkedWith'], ';')) \\\n",
    "            .withColumn('PlatformWorkedWith', split(df['PlatformWorkedWith'], ';')) \\\n",
    "            .withColumn('ConvertedSalary', col('ConvertedSalary')/12 ) \\\n",
    "            .withColumn('Exercise', when(col('Exercise') == \"I don't typically exercise\", 0) \\\n",
    "                                   .when(col('Exercise') == '1 - 2 times per week', 1.5) \\\n",
    "                                   .when(col('Exercise') == '3 - 4 times per week', 3.5) \\\n",
    "                                   .when(col('Exercise') == 'Daily or almost every day', 7) \\\n",
    "                                   .otherwise(None)) \\\n",
    "            .withColumn('YearsCoding', when(col('YearsCoding') == \"0-2 years\", 1) \\\n",
    "                                      .when(col('YearsCoding') == \"3-5 years\", 4) \\\n",
    "                                      .when(col('YearsCoding') == \"6-8 years\", 7) \\\n",
    "                                      .when(col('YearsCoding') == \"9-11 years\", 10) \\\n",
    "                                      .when(col('YearsCoding') == \"12-14 years\", 13) \\\n",
    "                                      .when(col('YearsCoding') == \"15-17 years\", 16) \\\n",
    "                                      .when(col('YearsCoding') == \"18-20 years\", 19) \\\n",
    "                                      .when(col('YearsCoding') == \"21-23 years\", 22) \\\n",
    "                                      .when(col('YearsCoding') == \"24-26 years\", 25) \\\n",
    "                                      .when(col('YearsCoding') == \"27-29 years\", 28) \\\n",
    "                                      .when(col('YearsCoding') == \"30 or more years\", 30) \\\n",
    "                                      .otherwise(None)) \\\n",
    "            .withColumn('YearsCodingProf', when(col('YearsCodingProf') == \"0-2 years\", 1) \\\n",
    "                                          .when(col('YearsCodingProf') == \"3-5 years\", 4) \\\n",
    "                                          .when(col('YearsCodingProf') == \"6-8 years\", 7) \\\n",
    "                                          .when(col('YearsCodingProf') == \"9-11 years\", 10) \\\n",
    "                                          .when(col('YearsCodingProf') == \"12-14 years\", 13) \\\n",
    "                                          .when(col('YearsCodingProf') == \"15-17 years\", 16) \\\n",
    "                                          .when(col('YearsCodingProf') == \"18-20 years\", 19) \\\n",
    "                                          .when(col('YearsCodingProf') == \"21-23 years\", 22) \\\n",
    "                                          .when(col('YearsCodingProf') == \"24-26 years\", 25) \\\n",
    "                                          .when(col('YearsCodingProf') == \"27-29 years\", 28) \\\n",
    "                                          .when(col('YearsCodingProf') == \"30 or more years\", 30) \\\n",
    "                                          .otherwise(None)) \\\n",
    "            .withColumn('WakeTime', when(col('WakeTime') == \"After 12:01 PM\", \"12:00\") \\\n",
    "                                    .when(col('WakeTime') == 'Before 5:00 AM', \"05:30\") \\\n",
    "                                    .when(col('WakeTime') == 'Between 5:00 - 6:00 AM', \"05:30\") \\\n",
    "                                    .when(col('WakeTime') == 'Between 6:01 - 7:00 AM', \"06:30\") \\\n",
    "                                    .when(col('WakeTime') == 'Between 6:01 - 7:00 AM', \"06:30\") \\\n",
    "                                    .when(col('WakeTime') == 'Between 7:01 - 8:00 AM', \"07:30\") \\\n",
    "                                    .when(col('WakeTime') == 'Between 8:01 - 9:00 AM', \"08:30\") \\\n",
    "                                    .when(col('WakeTime') == 'Between 9:01 - 10:00 AM', \"09:30\") \\\n",
    "                                    .otherwise(None)) \\\n",
    "            .withColumn('HoursComputer', when(col('HoursComputer') == \"Less than 1 hour\", 1) \\\n",
    "                                        .when(col('HoursComputer') == '1 - 4 hours', 2.5) \\\n",
    "                                        .when(col('HoursComputer') == '5 - 8 hours', 6.5) \\\n",
    "                                        .when(col('HoursComputer') == '9 - 12 hours', 10.5) \\\n",
    "                                        .when(col('HoursComputer') == 'Over 12 hours', 12) \\\n",
    "                                        .otherwise(None)) \\\n",
    "            .withColumn('HoursOutside', when(col('HoursOutside') == \"Less than 30 minutes\", 0.35) \\\n",
    "                                        .when(col('HoursOutside') == '30 - 59 minutes', 0.5) \\\n",
    "                                        .when(col('HoursOutside') == '1 - 2 hours', 1.5) \\\n",
    "                                        .when(col('HoursOutside') == '3 - 4 hours', 3.5) \\\n",
    "                                        .when(col('HoursOutside') == 'Over 4 hours', 7) \\\n",
    "                                        .otherwise(None)) \\\n",
    "            .withColumn('Age', when(col('Age') == \"Under 18 years old\", 18) \\\n",
    "                                .when(col('Age') == \"18 - 24 years old\", 23) \\\n",
    "                                .when(col('Age') == \"25 - 34 years old\", 30) \\\n",
    "                                .when(col('Age') == \"35 - 44 years old\", 40) \\\n",
    "                                .when(col('Age') == \"45 - 54 years old\", 50) \\\n",
    "                                .when(col('Age') == \"55 - 64 years old\", 60) \\\n",
    "                                .when(col('Age') == \"65 years or older\", 65) \\\n",
    "                                .otherwise(None)) \\\n",
    "\n",
    "\n",
    "result1 = result1.limit(1000)"
   ]
  },
  {
   "cell_type": "code",
   "execution_count": 181,
   "metadata": {},
   "outputs": [
    {
     "name": "stderr",
     "output_type": "stream",
     "text": [
      "                                                                                \r"
     ]
    },
    {
     "name": "stdout",
     "output_type": "stream",
     "text": [
      "+----+--------------+\n",
      "|code|          name|\n",
      "+----+--------------+\n",
      "|   1|    Rita Young|\n",
      "|   3|Kenneth Steele|\n",
      "|   4|   Scott Moore|\n",
      "|   5|    Erin Mills|\n",
      "+----+--------------+\n",
      "only showing top 4 rows\n",
      "\n"
     ]
    }
   ],
   "source": [
    "# Criação dos nós de DEV (pesado)\n",
    "\n",
    "from faker import Faker\n",
    "from pyspark.sql.functions import col, lit, expr, udf\n",
    "from pyspark.sql.types import StringType\n",
    "\n",
    "fake = Faker()\n",
    "\n",
    "random_full_name = fake.name()\n",
    "\n",
    "udf_func = udf(fake.name, StringType())\n",
    "\n",
    "\n",
    "neo4jData = result1.select('Respondent') \\\n",
    "                   .withColumn(\"name\", udf_func()) \\\n",
    "                   .withColumnRenamed('Respondent', 'code') \\\n",
    "\n",
    "\n",
    "neo4jData.write.format(\"org.neo4j.spark.DataSource\") \\\n",
    "    .mode(\"Overwrite\") \\\n",
    "    .option(\"url\", \"bolt://localhost:7687\") \\\n",
    "    .option(\"authentication.type\", \"basic\") \\\n",
    "    .option(\"authentication.basic.username\", \"neo4j\") \\\n",
    "    .option(\"authentication.basic.password\", \"password\") \\\n",
    "    .option(\"labels\", \":Developer\") \\\n",
    "    .option(\"node.keys\", \"code, name\") \\\n",
    "    .save()\n",
    "\n",
    "neo4jData.show(4)"
   ]
  },
  {
   "cell_type": "code",
   "execution_count": 182,
   "metadata": {},
   "outputs": [],
   "source": [
    "# Criação dos atributos NEO4J\n",
    "from pyspark.sql.functions import explode\n",
    "import uuid\n",
    "\n",
    "\n",
    "udf_id_func = udf(uuid.uuid4, StringType())\n",
    "\n",
    "# Languages\n",
    "\n",
    "languages = result1.select(explode('LanguageWorkedWith').alias(\"language\")).distinct()\n",
    "langs = languages \\\n",
    "            .withColumn(\"language\", col(\"language\").cast(\"string\"))\n",
    "\n",
    "\n",
    "langs.write.format(\"org.neo4j.spark.DataSource\") \\\n",
    "    .mode(\"Overwrite\") \\\n",
    "    .option(\"url\", \"bolt://localhost:7687\") \\\n",
    "    .option(\"authentication.type\", \"basic\") \\\n",
    "    .option(\"authentication.basic.username\", \"neo4j\") \\\n",
    "    .option(\"authentication.basic.password\", \"password\") \\\n",
    "    .option(\"labels\", \":Language\") \\\n",
    "    .option(\"node.keys\", \"language\") \\\n",
    "    .save()"
   ]
  },
  {
   "cell_type": "code",
   "execution_count": 183,
   "metadata": {},
   "outputs": [],
   "source": [
    "#DevType\n",
    "\n",
    "devtype = result1 \\\n",
    "                .select(explode('DevType').alias('devtype')).distinct() \\\n",
    "                .withColumn(\"devtype\", col(\"devtype\").cast(\"string\")) \n",
    "                \n",
    "devtype.write.format(\"org.neo4j.spark.DataSource\") \\\n",
    "    .mode(\"Overwrite\") \\\n",
    "    .option(\"url\", \"bolt://localhost:7687\") \\\n",
    "    .option(\"authentication.type\", \"basic\") \\\n",
    "    .option(\"authentication.basic.username\", \"neo4j\") \\\n",
    "    .option(\"authentication.basic.password\", \"password\") \\\n",
    "    .option(\"labels\", \":DevType\") \\\n",
    "    .option(\"node.keys\", \"devtype\") \\\n",
    "    .save()"
   ]
  },
  {
   "cell_type": "code",
   "execution_count": 184,
   "metadata": {},
   "outputs": [],
   "source": [
    "framework = result1 \\\n",
    "                .select(explode('FrameworkWorkedWith').alias('framework')).distinct() \\\n",
    "                .withColumn(\"framework\", col(\"framework\").cast(\"string\"))\n",
    "                \n",
    "framework.write.format(\"org.neo4j.spark.DataSource\") \\\n",
    "    .mode(\"Overwrite\") \\\n",
    "    .option(\"url\", \"bolt://localhost:7687\") \\\n",
    "    .option(\"authentication.type\", \"basic\") \\\n",
    "    .option(\"authentication.basic.username\", \"neo4j\") \\\n",
    "    .option(\"authentication.basic.password\", \"password\") \\\n",
    "    .option(\"labels\", \":Framework\") \\\n",
    "    .option(\"node.keys\", \"framework\") \\\n",
    "    .save()"
   ]
  },
  {
   "cell_type": "code",
   "execution_count": 185,
   "metadata": {},
   "outputs": [],
   "source": [
    "database = result1 \\\n",
    "                .select(explode('DatabaseWorkedWith').alias('database')).distinct() \\\n",
    "                .withColumn(\"database\", col(\"database\").cast(\"string\"))\n",
    "                \n",
    "database.write.format(\"org.neo4j.spark.DataSource\") \\\n",
    "    .mode(\"Overwrite\") \\\n",
    "    .option(\"url\", \"bolt://localhost:7687\") \\\n",
    "    .option(\"authentication.type\", \"basic\") \\\n",
    "    .option(\"authentication.basic.username\", \"neo4j\") \\\n",
    "    .option(\"authentication.basic.password\", \"password\") \\\n",
    "    .option(\"labels\", \":Database\") \\\n",
    "    .option(\"node.keys\", \"database\") \\\n",
    "    .save()"
   ]
  },
  {
   "cell_type": "code",
   "execution_count": 186,
   "metadata": {},
   "outputs": [],
   "source": [
    "platform = result1 \\\n",
    "                .select(explode('PlatformWorkedWith').alias('platform')).distinct() \\\n",
    "                .withColumn(\"platform\", col(\"platform\").cast(\"string\"))\n",
    "                \n",
    "platform.write.format(\"org.neo4j.spark.DataSource\") \\\n",
    "    .mode(\"Overwrite\") \\\n",
    "    .option(\"url\", \"bolt://localhost:7687\") \\\n",
    "    .option(\"authentication.type\", \"basic\") \\\n",
    "    .option(\"authentication.basic.username\", \"neo4j\") \\\n",
    "    .option(\"authentication.basic.password\", \"password\") \\\n",
    "    .option(\"labels\", \":Platform\") \\\n",
    "    .option(\"node.keys\", \"platform\") \\\n",
    "    .save()"
   ]
  },
  {
   "cell_type": "code",
   "execution_count": 187,
   "metadata": {},
   "outputs": [],
   "source": [
    "\n",
    "major = result1 \\\n",
    "                .select('UndergradMajor').distinct() \\\n",
    "                .withColumnRenamed('UndergradMajor', 'major') \\\n",
    "                .withColumn(\"major\", col(\"major\").cast(\"string\"))\n",
    "                \n",
    "major.write.format(\"org.neo4j.spark.DataSource\") \\\n",
    "    .mode(\"Overwrite\") \\\n",
    "    .option(\"url\", \"bolt://localhost:7687\") \\\n",
    "    .option(\"authentication.type\", \"basic\") \\\n",
    "    .option(\"authentication.basic.username\", \"neo4j\") \\\n",
    "    .option(\"authentication.basic.password\", \"password\") \\\n",
    "    .option(\"labels\", \":Major\") \\\n",
    "    .option(\"node.keys\", \"major\") \\\n",
    "    .save()"
   ]
  },
  {
   "cell_type": "code",
   "execution_count": 188,
   "metadata": {},
   "outputs": [],
   "source": [
    "country = result1 \\\n",
    "                .select('Country').distinct() \\\n",
    "                .withColumnRenamed('Country', 'country') \\\n",
    "                .withColumn(\"country\", col(\"country\").cast(\"string\"))\n",
    "                \n",
    "country.write.format(\"org.neo4j.spark.DataSource\") \\\n",
    "    .mode(\"Overwrite\") \\\n",
    "    .option(\"url\", \"bolt://localhost:7687\") \\\n",
    "    .option(\"authentication.type\", \"basic\") \\\n",
    "    .option(\"authentication.basic.username\", \"neo4j\") \\\n",
    "    .option(\"authentication.basic.password\", \"password\") \\\n",
    "    .option(\"labels\", \":Country\") \\\n",
    "    .option(\"node.keys\", \"country\") \\\n",
    "    .save()"
   ]
  },
  {
   "cell_type": "code",
   "execution_count": 189,
   "metadata": {},
   "outputs": [],
   "source": [
    "formalEducation = result1 \\\n",
    "                .select('FormalEducation').distinct() \\\n",
    "                .withColumnRenamed('FormalEducation', 'formalEducation') \\\n",
    "                .withColumn(\"formalEducation\", col(\"formalEducation\").cast(\"string\"))\n",
    "                \n",
    "formalEducation.write.format(\"org.neo4j.spark.DataSource\") \\\n",
    "    .mode(\"Overwrite\") \\\n",
    "    .option(\"url\", \"bolt://localhost:7687\") \\\n",
    "    .option(\"authentication.type\", \"basic\") \\\n",
    "    .option(\"authentication.basic.username\", \"neo4j\") \\\n",
    "    .option(\"authentication.basic.password\", \"password\") \\\n",
    "    .option(\"labels\", \":FormalEducation\") \\\n",
    "    .option(\"node.keys\", \"formalEducation\") \\\n",
    "    .save()"
   ]
  },
  {
   "cell_type": "code",
   "execution_count": 201,
   "metadata": {},
   "outputs": [],
   "source": [
    "languageDesire = result1 \\\n",
    "                .select(explode('LanguageDesireNextYear').alias('languageDesire')).distinct() \\\n",
    "                .withColumn(\"languageDesire\", col(\"languageDesire\").cast(\"string\"))\n",
    "                \n",
    "languageDesire.write.format(\"org.neo4j.spark.DataSource\") \\\n",
    "    .mode(\"Overwrite\") \\\n",
    "    .option(\"url\", \"bolt://localhost:7687\") \\\n",
    "    .option(\"authentication.type\", \"basic\") \\\n",
    "    .option(\"authentication.basic.username\", \"neo4j\") \\\n",
    "    .option(\"authentication.basic.password\", \"password\") \\\n",
    "    .option(\"labels\", \":LanguageDesire\") \\\n",
    "    .option(\"node.keys\", \"languageDesire\") \\\n",
    "    .save()"
   ]
  },
  {
   "cell_type": "code",
   "execution_count": 191,
   "metadata": {},
   "outputs": [],
   "source": [
    "formalRelations = result1.select('Respondent', 'FormalEducation') \\\n",
    "                            .withColumnRenamed('Respondent', 'src') \\\n",
    "                            .withColumnRenamed('FormalEducation', 'dst') \\\n",
    "                            .withColumn('relationship_type', lit('IS_IN')) \\\n",
    "                            .withColumn(\"src\", col(\"src\").cast(\"string\")) \\\n",
    "                            .withColumn(\"dst\", col(\"dst\").cast(\"string\")) \\\n",
    "                            .withColumn(\"relationship_type\", col(\"relationship_type\").cast(\"string\")) \\\n",
    "\n",
    "formalRelations.write \\\n",
    "    .format(\"org.neo4j.spark.DataSource\") \\\n",
    "    .option(\"url\", \"bolt://localhost:7687\") \\\n",
    "    .option(\"authentication.type\", \"basic\") \\\n",
    "    .option(\"authentication.basic.username\", \"neo4j\") \\\n",
    "    .option(\"authentication.basic.password\", \"password\") \\\n",
    "    .option(\"relationship.save.strategy\", \"keys\") \\\n",
    "    .option(\"relationship.source.labels\", \"Developer\") \\\n",
    "    .option(\"relationship.target.labels\", \"FormalEducation\") \\\n",
    "    .option(\"relationship.source.node.keys\", \"src:code\") \\\n",
    "    .option(\"relationship.target.node.keys\", \"dst:formalEducation\") \\\n",
    "    .option(\"relationship\", \"IS_IN\") \\\n",
    "    .mode(\"overwrite\") \\\n",
    "    .save()\n"
   ]
  },
  {
   "cell_type": "code",
   "execution_count": 192,
   "metadata": {},
   "outputs": [
    {
     "name": "stderr",
     "output_type": "stream",
     "text": [
      "                                                                                \r"
     ]
    }
   ],
   "source": [
    "langRel = result1.select('Respondent', explode('LanguageWorkedWith').alias('dst')) \\\n",
    "                            .withColumnRenamed('Respondent', 'src') \\\n",
    "                            .withColumn('relationship_type', lit('WORKED_WITH')) \\\n",
    "                            .withColumn(\"src\", col(\"src\").cast(\"string\")) \\\n",
    "                            .withColumn(\"dst\", col(\"dst\").cast(\"string\")) \\\n",
    "                            .withColumn(\"relationship_type\", col(\"relationship_type\").cast(\"string\")) \\\n",
    "\n",
    "langRel.write \\\n",
    "    .format(\"org.neo4j.spark.DataSource\") \\\n",
    "    .option(\"url\", \"bolt://localhost:7687\") \\\n",
    "    .option(\"authentication.type\", \"basic\") \\\n",
    "    .option(\"authentication.basic.username\", \"neo4j\") \\\n",
    "    .option(\"authentication.basic.password\", \"password\") \\\n",
    "    .option(\"relationship.save.strategy\", \"keys\") \\\n",
    "    .option(\"relationship.source.labels\", \"Developer\") \\\n",
    "    .option(\"relationship.target.labels\", \"Language\") \\\n",
    "    .option(\"relationship.source.node.keys\", \"src:code\") \\\n",
    "    .option(\"relationship.target.node.keys\", \"dst:language\") \\\n",
    "    .option(\"relationship\", \"WORKED_WITH\") \\\n",
    "    .mode(\"overwrite\") \\\n",
    "    .save()"
   ]
  },
  {
   "cell_type": "code",
   "execution_count": 193,
   "metadata": {},
   "outputs": [
    {
     "name": "stderr",
     "output_type": "stream",
     "text": [
      "                                                                                \r"
     ]
    }
   ],
   "source": [
    "devtypeRel = result1.select('Respondent', explode('DevType').alias('dst')) \\\n",
    "                            .withColumnRenamed('Respondent', 'src') \\\n",
    "                            .withColumn('relationship_type', lit('IS_A')) \\\n",
    "                            .withColumn(\"src\", col(\"src\").cast(\"string\")) \\\n",
    "                            .withColumn(\"dst\", col(\"dst\").cast(\"string\")) \\\n",
    "                            .withColumn(\"relationship_type\", col(\"relationship_type\").cast(\"string\")) \\\n",
    "\n",
    "devtypeRel.write \\\n",
    "    .format(\"org.neo4j.spark.DataSource\") \\\n",
    "    .option(\"url\", \"bolt://localhost:7687\") \\\n",
    "    .option(\"authentication.type\", \"basic\") \\\n",
    "    .option(\"authentication.basic.username\", \"neo4j\") \\\n",
    "    .option(\"authentication.basic.password\", \"password\") \\\n",
    "    .option(\"relationship.save.strategy\", \"keys\") \\\n",
    "    .option(\"relationship.source.labels\", \"Developer\") \\\n",
    "    .option(\"relationship.target.labels\", \"DevType\") \\\n",
    "    .option(\"relationship.source.node.keys\", \"src:code\") \\\n",
    "    .option(\"relationship.target.node.keys\", \"dst:devtype\") \\\n",
    "    .option(\"relationship\", \"IS_A\") \\\n",
    "    .mode(\"overwrite\") \\\n",
    "    .save()"
   ]
  },
  {
   "cell_type": "code",
   "execution_count": 194,
   "metadata": {},
   "outputs": [],
   "source": [
    "frameworkRel = result1.select('Respondent', explode('FrameworkWorkedWith').alias('dst')) \\\n",
    "                            .withColumnRenamed('Respondent', 'src') \\\n",
    "                            .withColumn('relationship_type', lit('WORKED_WITH')) \\\n",
    "                            .withColumn(\"src\", col(\"src\").cast(\"string\")) \\\n",
    "                            .withColumn(\"dst\", col(\"dst\").cast(\"string\")) \\\n",
    "                            .withColumn(\"relationship_type\", col(\"relationship_type\").cast(\"string\")) \\\n",
    "\n",
    "frameworkRel.write \\\n",
    "    .format(\"org.neo4j.spark.DataSource\") \\\n",
    "    .option(\"url\", \"bolt://localhost:7687\") \\\n",
    "    .option(\"authentication.type\", \"basic\") \\\n",
    "    .option(\"authentication.basic.username\", \"neo4j\") \\\n",
    "    .option(\"authentication.basic.password\", \"password\") \\\n",
    "    .option(\"relationship.save.strategy\", \"keys\") \\\n",
    "    .option(\"relationship.source.labels\", \"Developer\") \\\n",
    "    .option(\"relationship.target.labels\", \"Framework\") \\\n",
    "    .option(\"relationship.source.node.keys\", \"src:code\") \\\n",
    "    .option(\"relationship.target.node.keys\", \"dst:framework\") \\\n",
    "    .option(\"relationship\", \"FRAMEWORK_WORKED_WITH\") \\\n",
    "    .mode(\"overwrite\") \\\n",
    "    .save()"
   ]
  },
  {
   "cell_type": "code",
   "execution_count": 195,
   "metadata": {},
   "outputs": [
    {
     "name": "stderr",
     "output_type": "stream",
     "text": [
      "                                                                                \r"
     ]
    }
   ],
   "source": [
    "databaseRel = result1.select('Respondent', explode('DatabaseWorkedWith').alias('dst')) \\\n",
    "                            .withColumnRenamed('Respondent', 'src') \\\n",
    "                            .withColumn('relationship_type', lit('DATABASE_WORKED_WITH')) \\\n",
    "                            .withColumn(\"src\", col(\"src\").cast(\"string\")) \\\n",
    "                            .withColumn(\"dst\", col(\"dst\").cast(\"string\")) \\\n",
    "                            .withColumn(\"relationship_type\", col(\"relationship_type\").cast(\"string\")) \\\n",
    "\n",
    "databaseRel.write \\\n",
    "    .format(\"org.neo4j.spark.DataSource\") \\\n",
    "    .option(\"url\", \"bolt://localhost:7687\") \\\n",
    "    .option(\"authentication.type\", \"basic\") \\\n",
    "    .option(\"authentication.basic.username\", \"neo4j\") \\\n",
    "    .option(\"authentication.basic.password\", \"password\") \\\n",
    "    .option(\"relationship.save.strategy\", \"keys\") \\\n",
    "    .option(\"relationship.source.labels\", \"Developer\") \\\n",
    "    .option(\"relationship.target.labels\", \"Database\") \\\n",
    "    .option(\"relationship.source.node.keys\", \"src:code\") \\\n",
    "    .option(\"relationship.target.node.keys\", \"dst:database\") \\\n",
    "    .option(\"relationship\", \"DATABASE_WORKED_WITH\") \\\n",
    "    .mode(\"overwrite\") \\\n",
    "    .save()"
   ]
  },
  {
   "cell_type": "code",
   "execution_count": 196,
   "metadata": {},
   "outputs": [
    {
     "name": "stderr",
     "output_type": "stream",
     "text": [
      "                                                                                \r"
     ]
    }
   ],
   "source": [
    "platformRel = result1.select('Respondent', explode('PlatformWorkedWith').alias('dst')) \\\n",
    "                            .withColumnRenamed('Respondent', 'src') \\\n",
    "                            .withColumn('relationship_type', lit('PLATFORM_WORKED_WITH')) \\\n",
    "                            .withColumn(\"src\", col(\"src\").cast(\"string\")) \\\n",
    "                            .withColumn(\"dst\", col(\"dst\").cast(\"string\")) \\\n",
    "                            .withColumn(\"relationship_type\", col(\"relationship_type\").cast(\"string\")) \\\n",
    "\n",
    "platformRel.write \\\n",
    "    .format(\"org.neo4j.spark.DataSource\") \\\n",
    "    .option(\"url\", \"bolt://localhost:7687\") \\\n",
    "    .option(\"authentication.type\", \"basic\") \\\n",
    "    .option(\"authentication.basic.username\", \"neo4j\") \\\n",
    "    .option(\"authentication.basic.password\", \"password\") \\\n",
    "    .option(\"relationship.save.strategy\", \"keys\") \\\n",
    "    .option(\"relationship.source.labels\", \"Developer\") \\\n",
    "    .option(\"relationship.target.labels\", \"Platform\") \\\n",
    "    .option(\"relationship.source.node.keys\", \"src:code\") \\\n",
    "    .option(\"relationship.target.node.keys\", \"dst:platform\") \\\n",
    "    .option(\"relationship\", \"PLATFORM_WORKED_WITH\") \\\n",
    "    .mode(\"overwrite\") \\\n",
    "    .save()"
   ]
  },
  {
   "cell_type": "code",
   "execution_count": 197,
   "metadata": {},
   "outputs": [],
   "source": [
    "majorRelations = result1.select('Respondent', 'UndergradMajor') \\\n",
    "                            .withColumnRenamed('Respondent', 'src') \\\n",
    "                            .withColumnRenamed('UndergradMajor', 'dst') \\\n",
    "                            .withColumn('relationship_type', lit('IS_IN')) \\\n",
    "                            .withColumn(\"src\", col(\"src\").cast(\"string\")) \\\n",
    "                            .withColumn(\"dst\", col(\"dst\").cast(\"string\")) \\\n",
    "                            .withColumn(\"relationship_type\", col(\"relationship_type\").cast(\"string\")) \\\n",
    "\n",
    "majorRelations.write \\\n",
    "    .format(\"org.neo4j.spark.DataSource\") \\\n",
    "    .option(\"url\", \"bolt://localhost:7687\") \\\n",
    "    .option(\"authentication.type\", \"basic\") \\\n",
    "    .option(\"authentication.basic.username\", \"neo4j\") \\\n",
    "    .option(\"authentication.basic.password\", \"password\") \\\n",
    "    .option(\"relationship.save.strategy\", \"keys\") \\\n",
    "    .option(\"relationship.source.labels\", \"Developer\") \\\n",
    "    .option(\"relationship.target.labels\", \"Major\") \\\n",
    "    .option(\"relationship.source.node.keys\", \"src:code\") \\\n",
    "    .option(\"relationship.target.node.keys\", \"dst:major\") \\\n",
    "    .option(\"relationship\", \"MAJORED_IN\") \\\n",
    "    .mode(\"overwrite\") \\\n",
    "    .save()"
   ]
  },
  {
   "cell_type": "code",
   "execution_count": 198,
   "metadata": {},
   "outputs": [],
   "source": [
    "countryRelations = result1.select('Respondent', 'Country') \\\n",
    "                            .withColumnRenamed('Respondent', 'src') \\\n",
    "                            .withColumnRenamed('Country', 'dst') \\\n",
    "                            .withColumn('relationship_type', lit('IS_FROM')) \\\n",
    "                            .withColumn(\"src\", col(\"src\").cast(\"string\")) \\\n",
    "                            .withColumn(\"dst\", col(\"dst\").cast(\"string\")) \\\n",
    "                            .withColumn(\"relationship_type\", col(\"relationship_type\").cast(\"string\")) \\\n",
    "\n",
    "countryRelations.write \\\n",
    "    .format(\"org.neo4j.spark.DataSource\") \\\n",
    "    .option(\"url\", \"bolt://localhost:7687\") \\\n",
    "    .option(\"authentication.type\", \"basic\") \\\n",
    "    .option(\"authentication.basic.username\", \"neo4j\") \\\n",
    "    .option(\"authentication.basic.password\", \"password\") \\\n",
    "    .option(\"relationship.save.strategy\", \"keys\") \\\n",
    "    .option(\"relationship.source.labels\", \"Developer\") \\\n",
    "    .option(\"relationship.target.labels\", \"Country\") \\\n",
    "    .option(\"relationship.source.node.keys\", \"src:code\") \\\n",
    "    .option(\"relationship.target.node.keys\", \"dst:country\") \\\n",
    "    .option(\"relationship\", \"IS_FROM\") \\\n",
    "    .mode(\"overwrite\") \\\n",
    "    .save()"
   ]
  },
  {
   "cell_type": "code",
   "execution_count": 202,
   "metadata": {},
   "outputs": [
    {
     "name": "stderr",
     "output_type": "stream",
     "text": [
      "                                                                                \r"
     ]
    }
   ],
   "source": [
    "languageDesireRel = result1.select('Respondent', explode('LanguageDesireNextYear').alias('dst')) \\\n",
    "                            .withColumnRenamed('Respondent', 'src') \\\n",
    "                            .withColumn('relationship_type', lit('WANTS_TO_LEARN')) \\\n",
    "                            .withColumn(\"src\", col(\"src\").cast(\"string\")) \\\n",
    "                            .withColumn(\"dst\", col(\"dst\").cast(\"string\")) \\\n",
    "                            .withColumn(\"relationship_type\", col(\"relationship_type\").cast(\"string\")) \\\n",
    "\n",
    "languageDesireRel.write \\\n",
    "    .format(\"org.neo4j.spark.DataSource\") \\\n",
    "    .option(\"url\", \"bolt://localhost:7687\") \\\n",
    "    .option(\"authentication.type\", \"basic\") \\\n",
    "    .option(\"authentication.basic.username\", \"neo4j\") \\\n",
    "    .option(\"authentication.basic.password\", \"password\") \\\n",
    "    .option(\"relationship.save.strategy\", \"keys\") \\\n",
    "    .option(\"relationship.source.labels\", \"Developer\") \\\n",
    "    .option(\"relationship.target.labels\", \"Language\") \\\n",
    "    .option(\"relationship.source.node.keys\", \"src:code\") \\\n",
    "    .option(\"relationship.target.node.keys\", \"dst:language\") \\\n",
    "    .option(\"relationship\", \"WANTS_TO_LEARN\") \\\n",
    "    .mode(\"overwrite\") \\\n",
    "    .save()"
   ]
  },
  {
   "cell_type": "code",
   "execution_count": 169,
   "metadata": {},
   "outputs": [
    {
     "name": "stderr",
     "output_type": "stream",
     "text": [
      "                                                                                \r"
     ]
    }
   ],
   "source": [
    "from faker import Faker\n",
    "from pyspark.sql.functions import col, lit, expr, udf\n",
    "from pyspark.sql.types import StringType\n",
    "\n",
    "fake = Faker()\n",
    "\n",
    "random_full_name = fake.name()\n",
    "\n",
    "udf_func = udf(fake.name, StringType())\n",
    "\n",
    "\n",
    "perfis = result1.select('Respondent', \n",
    "               'Age', \n",
    "               'ConvertedSalary', \n",
    "               'Exercise', \n",
    "               'YearsCoding', \n",
    "               'YearsCodingProf', \n",
    "               'WakeTime', \n",
    "               'HoursComputer', \n",
    "               'HoursOutside') \\\n",
    "            .withColumn(\"Name\", udf_func()) \\\n",
    "            .withColumnRenamed('Respondent', 'Code')\n",
    "\n",
    "perfis.write.format(\"mongodb\") \\\n",
    "  .option(\"uri\", \"mongodb://localhost:27017\") \\\n",
    "  .option(\"spark.mongodb.write.database\", \"rede-devs\") \\\n",
    "  .option(\"spark.mongodb.write.collection\", \"developers\") \\\n",
    "  .mode(\"append\") \\\n",
    "  .save()"
   ]
  },
  {
   "cell_type": "code",
   "execution_count": 57,
   "metadata": {},
   "outputs": [
    {
     "data": {
      "text/plain": [
       "98855"
      ]
     },
     "execution_count": 57,
     "metadata": {},
     "output_type": "execute_result"
    }
   ],
   "source": [
    "result1.count()"
   ]
  }
 ],
 "metadata": {
  "kernelspec": {
   "display_name": "Python 3",
   "language": "python",
   "name": "python3"
  },
  "language_info": {
   "codemirror_mode": {
    "name": "ipython",
    "version": 3
   },
   "file_extension": ".py",
   "mimetype": "text/x-python",
   "name": "python",
   "nbconvert_exporter": "python",
   "pygments_lexer": "ipython3",
   "version": "3.10.12"
  },
  "orig_nbformat": 4
 },
 "nbformat": 4,
 "nbformat_minor": 2
}
